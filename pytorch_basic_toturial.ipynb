{
  "nbformat": 4,
  "nbformat_minor": 0,
  "metadata": {
    "colab": {
      "name": "Untitled0.ipynb",
      "provenance": [],
      "collapsed_sections": [],
      "include_colab_link": true
    },
    "kernelspec": {
      "name": "python3",
      "display_name": "Python 3"
    },
    "accelerator": "GPU"
  },
  "cells": [
    {
      "cell_type": "markdown",
      "metadata": {
        "id": "view-in-github",
        "colab_type": "text"
      },
      "source": [
        "<a href=\"https://colab.research.google.com/github/alyonavyshnevska/pyTorch_playground/blob/master/pytorch_basic_toturial.ipynb\" target=\"_parent\"><img src=\"https://colab.research.google.com/assets/colab-badge.svg\" alt=\"Open In Colab\"/></a>"
      ]
    },
    {
      "cell_type": "markdown",
      "metadata": {
        "id": "MtP3Pxf-KIgi",
        "colab_type": "text"
      },
      "source": [
        "# PyTorch Tutorial\n",
        "[Link](https://pytorch.org/tutorials/beginner/blitz/tensor_tutorial.html#sphx-glr-beginner-blitz-tensor-tutorial-py)"
      ]
    },
    {
      "cell_type": "code",
      "metadata": {
        "id": "NNsU5JzsILhQ",
        "colab_type": "code",
        "colab": {}
      },
      "source": [
        "import torch\n",
        "from __future__ import print_function"
      ],
      "execution_count": 0,
      "outputs": []
    },
    {
      "cell_type": "code",
      "metadata": {
        "id": "rZyEfsBZINOu",
        "colab_type": "code",
        "colab": {
          "base_uri": "https://localhost:8080/",
          "height": 102
        },
        "outputId": "acb5a0e6-c702-4514-b022-fd699dd9d2b0"
      },
      "source": [
        "x = torch.zeros(5,3)\n",
        "print(x)"
      ],
      "execution_count": 3,
      "outputs": [
        {
          "output_type": "stream",
          "text": [
            "tensor([[0., 0., 0.],\n",
            "        [0., 0., 0.],\n",
            "        [0., 0., 0.],\n",
            "        [0., 0., 0.],\n",
            "        [0., 0., 0.]])\n"
          ],
          "name": "stdout"
        }
      ]
    },
    {
      "cell_type": "code",
      "metadata": {
        "id": "587pSjScIUbg",
        "colab_type": "code",
        "colab": {
          "base_uri": "https://localhost:8080/",
          "height": 102
        },
        "outputId": "d4dd9763-37f7-497b-b57d-5f5c00b6a156"
      },
      "source": [
        "# Construct a randomly initialized matrix\n",
        "x = torch.rand(5,3)\n",
        "print(x)"
      ],
      "execution_count": 4,
      "outputs": [
        {
          "output_type": "stream",
          "text": [
            "tensor([[0.2436, 0.6578, 0.3013],\n",
            "        [0.0919, 0.5264, 0.8943],\n",
            "        [0.8235, 0.5222, 0.1286],\n",
            "        [0.5562, 0.2353, 0.2720],\n",
            "        [0.0345, 0.5025, 0.7611]])\n"
          ],
          "name": "stdout"
        }
      ]
    },
    {
      "cell_type": "code",
      "metadata": {
        "id": "yfl6ZbCfJl3I",
        "colab_type": "code",
        "colab": {
          "base_uri": "https://localhost:8080/",
          "height": 34
        },
        "outputId": "34564b96-4016-42c5-db36-65d7684d687f"
      },
      "source": [
        "# Construct a tensor directly from data\n",
        "x = torch.tensor([5.5, 3])\n",
        "print(x)"
      ],
      "execution_count": 5,
      "outputs": [
        {
          "output_type": "stream",
          "text": [
            "tensor([5.5000, 3.0000])\n"
          ],
          "name": "stdout"
        }
      ]
    },
    {
      "cell_type": "code",
      "metadata": {
        "id": "acYQSJU5Jtz8",
        "colab_type": "code",
        "colab": {
          "base_uri": "https://localhost:8080/",
          "height": 102
        },
        "outputId": "fb64b59f-9512-467b-eca8-59aaf84b22a4"
      },
      "source": [
        "# create a tensor based on an existing tensor. These methods will reuse properties of the input tensor, \n",
        "# e.g. dtype, unless new values are provided by user\n",
        "x = x.new_ones(5,3,dtype=torch.double)\n",
        "print(x)"
      ],
      "execution_count": 6,
      "outputs": [
        {
          "output_type": "stream",
          "text": [
            "tensor([[1., 1., 1.],\n",
            "        [1., 1., 1.],\n",
            "        [1., 1., 1.],\n",
            "        [1., 1., 1.],\n",
            "        [1., 1., 1.]], dtype=torch.float64)\n"
          ],
          "name": "stdout"
        }
      ]
    },
    {
      "cell_type": "code",
      "metadata": {
        "id": "rUArmYATKGT-",
        "colab_type": "code",
        "colab": {
          "base_uri": "https://localhost:8080/",
          "height": 289
        },
        "outputId": "de6540a7-a86e-45b4-a1f7-dff3159c778c"
      },
      "source": [
        "# Size\n",
        "print(x.size())\n",
        "# torch.Size is in fact a tuple, so it supports all tuple operations.\n",
        "y = torch.rand(5,3)\n",
        "print(x+y)\n",
        "#print(torch.add(x,y))\n",
        "\n",
        "# Addition: providing an output tensor as argument\n",
        "result = torch.zeros(5,3)\n",
        "torch.add(x,y, out=result)\n",
        "print(result)\n",
        "\n",
        "#In-place\n",
        "y.add_(x)\n",
        "print(y)"
      ],
      "execution_count": 7,
      "outputs": [
        {
          "output_type": "stream",
          "text": [
            "torch.Size([5, 3])\n",
            "tensor([[1.5349, 1.9286, 1.4384],\n",
            "        [1.6188, 1.1579, 1.0270],\n",
            "        [1.3413, 1.0555, 1.4390],\n",
            "        [1.1197, 1.1898, 1.9325],\n",
            "        [1.6060, 1.4790, 1.9386]], dtype=torch.float64)\n",
            "tensor([[1.5349, 1.9286, 1.4384],\n",
            "        [1.6188, 1.1579, 1.0270],\n",
            "        [1.3413, 1.0555, 1.4390],\n",
            "        [1.1197, 1.1898, 1.9325],\n",
            "        [1.6060, 1.4790, 1.9386]])\n",
            "tensor([[1.5349, 1.9286, 1.4384],\n",
            "        [1.6188, 1.1579, 1.0270],\n",
            "        [1.3413, 1.0555, 1.4390],\n",
            "        [1.1197, 1.1898, 1.9325],\n",
            "        [1.6060, 1.4790, 1.9386]])\n"
          ],
          "name": "stdout"
        }
      ]
    },
    {
      "cell_type": "code",
      "metadata": {
        "id": "ZLJKsbaQLGYE",
        "colab_type": "code",
        "colab": {
          "base_uri": "https://localhost:8080/",
          "height": 68
        },
        "outputId": "25322712-fb93-44d4-f583-cae2dda64aeb"
      },
      "source": [
        "#Any operation that mutates a tensor in-place is post-fixed with an _. \n",
        "# For example: x.copy_(y), x.t_(), will change x.\n",
        "y.t_()"
      ],
      "execution_count": 8,
      "outputs": [
        {
          "output_type": "execute_result",
          "data": {
            "text/plain": [
              "tensor([[1.5349, 1.6188, 1.3413, 1.1197, 1.6060],\n",
              "        [1.9286, 1.1579, 1.0555, 1.1898, 1.4790],\n",
              "        [1.4384, 1.0270, 1.4390, 1.9325, 1.9386]])"
            ]
          },
          "metadata": {
            "tags": []
          },
          "execution_count": 8
        }
      ]
    },
    {
      "cell_type": "code",
      "metadata": {
        "id": "jYpF9cKRL3QZ",
        "colab_type": "code",
        "colab": {
          "base_uri": "https://localhost:8080/",
          "height": 34
        },
        "outputId": "c55fde83-0c9c-4469-bc40-44e0bc40b6f9"
      },
      "source": [
        "# Use standard NumPy-like indexing\n",
        "print(y[:,0])"
      ],
      "execution_count": 9,
      "outputs": [
        {
          "output_type": "stream",
          "text": [
            "tensor([1.5349, 1.9286, 1.4384])\n"
          ],
          "name": "stdout"
        }
      ]
    },
    {
      "cell_type": "code",
      "metadata": {
        "id": "GZB1nVdoMAnE",
        "colab_type": "code",
        "colab": {
          "base_uri": "https://localhost:8080/",
          "height": 34
        },
        "outputId": "95faa9e1-a0f3-4713-8ed3-7f242cc9ad00"
      },
      "source": [
        "# Resizing\n",
        "x = torch.randn(4,4)\n",
        "y = x.view(16)\n",
        "z = x.view(-1,8)  # the size -1 is inferred from other dimensions\n",
        "print(x.size(), y.size(), z.size())"
      ],
      "execution_count": 10,
      "outputs": [
        {
          "output_type": "stream",
          "text": [
            "torch.Size([4, 4]) torch.Size([16]) torch.Size([2, 8])\n"
          ],
          "name": "stdout"
        }
      ]
    },
    {
      "cell_type": "code",
      "metadata": {
        "id": "KUcWlfYSQgap",
        "colab_type": "code",
        "colab": {
          "base_uri": "https://localhost:8080/",
          "height": 51
        },
        "outputId": "5944cb26-48df-4f01-838f-9cd24a48065b"
      },
      "source": [
        "# one element tensor can be accessed via .item()\n",
        "x = torch.randn(1)\n",
        "print(x)\n",
        "print(x.item())"
      ],
      "execution_count": 11,
      "outputs": [
        {
          "output_type": "stream",
          "text": [
            "tensor([0.7628])\n",
            "0.7628363370895386\n"
          ],
          "name": "stdout"
        }
      ]
    },
    {
      "cell_type": "code",
      "metadata": {
        "id": "3PuQlzFgSj90",
        "colab_type": "code",
        "colab": {
          "base_uri": "https://localhost:8080/",
          "height": 85
        },
        "outputId": "5f2b5b10-0ba3-4592-ed7c-360e35954106"
      },
      "source": [
        "# Convert a torch tensor to numpy\n",
        "torch_tensor = torch.randn(2,2)\n",
        "numpy_array = torch_tensor.numpy()\n",
        "print(numpy_array)\n",
        "\n",
        "# Numpy array automatically updates\n",
        "# if chnages are made to tendor value\n",
        "torch_tensor.add_(200)\n",
        "print(numpy_array)"
      ],
      "execution_count": 12,
      "outputs": [
        {
          "output_type": "stream",
          "text": [
            "[[-1.7632116  -0.7176378 ]\n",
            " [-1.3597999   0.34305292]]\n",
            "[[198.23679 199.28236]\n",
            " [198.6402  200.34305]]\n"
          ],
          "name": "stdout"
        }
      ]
    },
    {
      "cell_type": "code",
      "metadata": {
        "id": "Vm3gNmZDS3Tr",
        "colab_type": "code",
        "colab": {
          "base_uri": "https://localhost:8080/",
          "height": 85
        },
        "outputId": "dc409f5b-7ef5-44d8-a273-024bb26c5c38"
      },
      "source": [
        "# Numpy to torch tensor\n",
        "import numpy as np\n",
        "nump = np.ones((2,3))\n",
        "tor = torch.from_numpy(nump)\n",
        "print(tor)\n",
        "\n",
        "# tensor also automatically updates\n",
        "# if changes are made to a numoy array from which it was constucted\n",
        "np.add(nump,200,out=nump)\n",
        "print(tor)\n",
        "\n",
        "# All the Tensors on the CPU except a CharTensor support converting to NumPy and back"
      ],
      "execution_count": 13,
      "outputs": [
        {
          "output_type": "stream",
          "text": [
            "tensor([[1., 1., 1.],\n",
            "        [1., 1., 1.]], dtype=torch.float64)\n",
            "tensor([[201., 201., 201.],\n",
            "        [201., 201., 201.]], dtype=torch.float64)\n"
          ],
          "name": "stdout"
        }
      ]
    },
    {
      "cell_type": "code",
      "metadata": {
        "id": "twvYHUHmUPGM",
        "colab_type": "code",
        "colab": {
          "base_uri": "https://localhost:8080/",
          "height": 68
        },
        "outputId": "ce08f188-359c-4089-999b-174d14872dc6"
      },
      "source": [
        "# CUDA tensors\n",
        "# CUDA is a parallel computing platform and programming model \n",
        "# for general computing on GPUs\n",
        "\n",
        "if torch.cuda.is_available():\n",
        "  print(\"GPU available\")\n",
        "  device = torch.device(\"cuda\")     # cuda device object\n",
        "  y = torch.ones_like(x, device=device)   # directly create a tensor object on GPU\n",
        "  x = x.to(device)\n",
        "  z = x+y\n",
        "  print(x,y,z)\n",
        "  print(z.to(\"cpu\", torch.double))    #.to can change dtype"
      ],
      "execution_count": 16,
      "outputs": [
        {
          "output_type": "stream",
          "text": [
            "GPU available\n",
            "tensor([0.7628], device='cuda:0') tensor([1.], device='cuda:0') tensor([1.7628], device='cuda:0')\n",
            "tensor([1.7628], dtype=torch.float64)\n"
          ],
          "name": "stdout"
        }
      ]
    },
    {
      "cell_type": "code",
      "metadata": {
        "id": "8kspg9qbWym9",
        "colab_type": "code",
        "colab": {}
      },
      "source": [
        ""
      ],
      "execution_count": 0,
      "outputs": []
    }
  ]
}