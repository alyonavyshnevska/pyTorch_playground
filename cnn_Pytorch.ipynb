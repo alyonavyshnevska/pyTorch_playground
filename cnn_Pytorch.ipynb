{
  "nbformat": 4,
  "nbformat_minor": 0,
  "metadata": {
    "colab": {
      "name": "cnn_Pytorch.ipynb",
      "provenance": [],
      "collapsed_sections": [],
      "include_colab_link": true
    },
    "kernelspec": {
      "name": "python3",
      "display_name": "Python 3"
    }
  },
  "cells": [
    {
      "cell_type": "markdown",
      "metadata": {
        "id": "view-in-github",
        "colab_type": "text"
      },
      "source": [
        "<a href=\"https://colab.research.google.com/github/alyonavyshnevska/pyTorch_playground/blob/master/cnn_Pytorch.ipynb\" target=\"_parent\"><img src=\"https://colab.research.google.com/assets/colab-badge.svg\" alt=\"Open In Colab\"/></a>"
      ]
    },
    {
      "cell_type": "markdown",
      "metadata": {
        "id": "FlqYpvLPsX2C",
        "colab_type": "text"
      },
      "source": [
        "# Training a CNN\n",
        "\n",
        "[Link to the tutorial](https://pytorch.org/tutorials/beginner/blitz/cifar10_tutorial.html)"
      ]
    },
    {
      "cell_type": "code",
      "metadata": {
        "id": "QrvRea_ol7Yi",
        "colab_type": "code",
        "colab": {}
      },
      "source": [
        "import torch\n",
        "import torch.nn as nn\n",
        "import torch.nn.functional as F"
      ],
      "execution_count": 0,
      "outputs": []
    },
    {
      "cell_type": "markdown",
      "metadata": {
        "id": "XePNIA8Qrb9u",
        "colab_type": "text"
      },
      "source": [
        "- torch.Tensor - A multi-dimensional array with support for autograd operations like backward(). Also holds the gradient w.r.t. the tensor.\n",
        "\n",
        "- nn.Module - Neural network module. Convenient way of encapsulating parameters, with helpers for moving them to GPU, exporting, loading, etc.\n",
        "\n",
        "- nn.Parameter - A kind of Tensor, that is automatically registered as a parameter when assigned as an attribute to a Module.\n",
        "\n",
        "- autograd.Function - Implements forward and backward definitions of an autograd operation. Every Tensor operation creates at least a single Function node that connects to functions that created a Tensor and encodes its history."
      ]
    },
    {
      "cell_type": "markdown",
      "metadata": {
        "id": "__3_x5uCsRU7",
        "colab_type": "text"
      },
      "source": [
        "### Data\n",
        "\n",
        "- data into a numpy array\n",
        "- convert this array into a torch.*Tensor.\n",
        "\n",
        "For images, packages such as Pillow, OpenCV are useful . \n",
        "\n",
        "For audio, packages such as scipy and librosa .   \n",
        "\n",
        "For text, either raw Python or Cython based loading, or NLTK and SpaCy are useful . \n",
        "\n",
        "\n",
        "Specifically for vision, pytorch has created a package called torchvision, that has data loaders for common datasets such as Imagenet, CIFAR10, MNIST, etc. and data transformers for images, viz., torchvision.datasets and torch.utils.data.DataLoader\n",
        "\n",
        "For this tutorial:  CIFAR10 dataset. \n",
        "\n",
        "It has the classes: ‘airplane’, ‘automobile’, ‘bird’, ‘cat’, ‘deer’, ‘dog’, ‘frog’, ‘horse’, ‘ship’, ‘truck’. The images in CIFAR-10 are of size 3x32x32, i.e. 3-channel color images of 32x32 pixels in size."
      ]
    },
    {
      "cell_type": "markdown",
      "metadata": {
        "id": "DQEf1Z-NK1PM",
        "colab_type": "text"
      },
      "source": [
        "### Steps: \n",
        "- Load and normalizing the CIFAR10 training and test datasets using torchvision  \n",
        "- Define a Convolutional Neural Network \n",
        "\n",
        "- Define a loss function\n",
        "\n",
        "- Train the network on the training data\n",
        "\n",
        "- Test the network on the test data"
      ]
    },
    {
      "cell_type": "code",
      "metadata": {
        "id": "TxIjmJykmFi8",
        "colab_type": "code",
        "colab": {}
      },
      "source": [
        "# class Net(nn.Module):\n",
        "\n",
        "#   def __init__(self):\n",
        "#     # inheritence: refer to parent class with super\n",
        "#     super(Net,self).__init__()\n",
        "#     # 1 input channel, 6 output channels, 3x3 convolution\n",
        "#     # kernel\n",
        "#     self.conv1 = nn.Conv2d(1,6,3)   # nSamples x nChannels x Height x Width.\n",
        "#     self.conv2 = nn.Conv2d(6,16,3)\n",
        "#     # an affine operation: parallel lines stay parallel\n",
        "#     self.fc1 = nn.Linear(16*6*6, 120)   #img dim 6x6\n",
        "#     self.fc2 = nn.Linear(120,84)\n",
        "#     self.fc3 = nn.Linear(84,10)"
      ],
      "execution_count": 0,
      "outputs": []
    },
    {
      "cell_type": "code",
      "metadata": {
        "id": "4LrlQmydLiYh",
        "colab_type": "code",
        "colab": {}
      },
      "source": [
        ""
      ],
      "execution_count": 0,
      "outputs": []
    }
  ]
}